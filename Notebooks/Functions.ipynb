{
 "cells": [
  {
   "cell_type": "markdown",
   "metadata": {},
   "source": [
    "**Our imports**"
   ]
  },
  {
   "cell_type": "code",
   "execution_count": 1,
   "metadata": {
    "ExecuteTime": {
     "end_time": "2020-12-30T18:28:00.261497Z",
     "start_time": "2020-12-30T18:27:59.645358Z"
    }
   },
   "outputs": [],
   "source": [
    "import numpy as np\n",
    "import mysql.connector as mysql\n",
    "from time import *\n",
    "from pandas import *\n",
    "\n",
    "set_option('display.max_columns', None)\n",
    "set_option(\"max_rows\", None)"
   ]
  },
  {
   "cell_type": "markdown",
   "metadata": {},
   "source": [
    "**Our functions**"
   ]
  },
  {
   "cell_type": "markdown",
   "metadata": {},
   "source": [
    "<p>Function to connect to the mySQL server (it must be running in your pc). <br>\n",
    "For us, the credentials are host = \"localhost\", user = \"root\", passwd = \"password\". </p>"
   ]
  },
  {
   "cell_type": "code",
   "execution_count": 2,
   "metadata": {
    "ExecuteTime": {
     "end_time": "2020-12-30T18:28:00.277500Z",
     "start_time": "2020-12-30T18:28:00.263498Z"
    }
   },
   "outputs": [],
   "source": [
    "def ConnectMySQL(host_name,user_name,password):\n",
    "    db = mysql.connect(host = host_name, user = user_name, passwd = password, use_pure=True    )\n",
    "    \n",
    "    print(db) \n",
    "    \n",
    "    return db"
   ]
  },
  {
   "cell_type": "markdown",
   "metadata": {},
   "source": [
    "In order to create the queries inside the functions to be executed we get the input from the chatbot and with format() we put them inside the appropriate query and then we execute it."
   ]
  },
  {
   "cell_type": "markdown",
   "metadata": {},
   "source": [
    "Function that creates a database"
   ]
  },
  {
   "cell_type": "code",
   "execution_count": 3,
   "metadata": {
    "ExecuteTime": {
     "end_time": "2020-12-30T18:28:00.293504Z",
     "start_time": "2020-12-30T18:28:00.279501Z"
    }
   },
   "outputs": [],
   "source": [
    "def CreateDB(db_name):\n",
    "    cursor = db.cursor()\n",
    "    \n",
    "    query = 'CREATE DATABASE {}'\n",
    "    \n",
    "    cursor.execute(query.format(db_name))"
   ]
  },
  {
   "cell_type": "markdown",
   "metadata": {},
   "source": [
    "Function that prints the databases that already exist"
   ]
  },
  {
   "cell_type": "code",
   "execution_count": 4,
   "metadata": {
    "ExecuteTime": {
     "end_time": "2020-12-30T18:28:00.309507Z",
     "start_time": "2020-12-30T18:28:00.295506Z"
    }
   },
   "outputs": [],
   "source": [
    "def ShowDB():\n",
    "    cursor = db.cursor()\n",
    "    \n",
    "    cursor.execute(\"SHOW DATABASES\")\n",
    "    databases = cursor.fetchall() \n",
    "    \n",
    "    print(databases)"
   ]
  },
  {
   "cell_type": "markdown",
   "metadata": {
    "ExecuteTime": {
     "end_time": "2020-12-26T17:08:38.042041Z",
     "start_time": "2020-12-26T17:08:38.021037Z"
    }
   },
   "source": [
    "Function that connects us to the database <br>\n",
    "The credentials for us are host = \"localhost\",user = \"root\",passwd = \"password\", database = \"dbs2\"."
   ]
  },
  {
   "cell_type": "code",
   "execution_count": 5,
   "metadata": {
    "ExecuteTime": {
     "end_time": "2020-12-30T18:28:00.325512Z",
     "start_time": "2020-12-30T18:28:00.311508Z"
    }
   },
   "outputs": [],
   "source": [
    "def ConnectDB(host_name, user_name, password, db_name):\n",
    "    db = mysql.connect(host = host_name, user = user_name, passwd = password, database = db_name,use_pure=True)\n",
    "    \n",
    "    return db"
   ]
  },
  {
   "cell_type": "markdown",
   "metadata": {
    "ExecuteTime": {
     "end_time": "2020-12-26T17:08:45.598748Z",
     "start_time": "2020-12-26T17:08:45.588748Z"
    }
   },
   "source": [
    "Function that prints are the table names of the database"
   ]
  },
  {
   "cell_type": "code",
   "execution_count": 6,
   "metadata": {
    "ExecuteTime": {
     "end_time": "2020-12-30T18:28:00.341515Z",
     "start_time": "2020-12-30T18:28:00.327514Z"
    }
   },
   "outputs": [],
   "source": [
    "def ShowTables():\n",
    "    cursor = db.cursor()\n",
    "    \n",
    "    cursor.execute(\"SHOW TABLES\")\n",
    "    tables = cursor.fetchall() \n",
    "    \n",
    "    for table in tables:\n",
    "        print(table)"
   ]
  },
  {
   "cell_type": "markdown",
   "metadata": {},
   "source": [
    "Function that creates a new table"
   ]
  },
  {
   "cell_type": "code",
   "execution_count": 7,
   "metadata": {
    "ExecuteTime": {
     "end_time": "2020-12-30T18:28:00.357519Z",
     "start_time": "2020-12-30T18:28:00.343516Z"
    }
   },
   "outputs": [],
   "source": [
    "def CreateTable(table_name,table_values):\n",
    "    cursor = db.cursor()\n",
    "    \n",
    "    query = \"CREATE TABLE {} ({})\"\n",
    "    \n",
    "    print('\\nThe query you created is: \\n')\n",
    "    print(query.format(table_name,table_values[0]))\n",
    "    \n",
    "    cursor.execute(query.format(table_name,table_values[0]))\n",
    "   \n",
    "    db.commit()"
   ]
  },
  {
   "cell_type": "markdown",
   "metadata": {},
   "source": [
    "Function that deletes a table"
   ]
  },
  {
   "cell_type": "code",
   "execution_count": 8,
   "metadata": {
    "ExecuteTime": {
     "end_time": "2020-12-30T18:28:00.373522Z",
     "start_time": "2020-12-30T18:28:00.360519Z"
    }
   },
   "outputs": [],
   "source": [
    "def DropTable(table_name):\n",
    "    cursor = db.cursor()\n",
    "    \n",
    "    query = \"DROP TABLE {}\"\n",
    "    \n",
    "    print('\\nThe query you created is: \\n')\n",
    "    print(query.format(table_name))\n",
    "    \n",
    "    cursor.execute(query.format(table_name))\n",
    "    \n",
    "    db.commit()         "
   ]
  },
  {
   "cell_type": "markdown",
   "metadata": {
    "ExecuteTime": {
     "end_time": "2020-12-26T13:43:50.459780Z",
     "start_time": "2020-12-26T13:43:50.444777Z"
    }
   },
   "source": [
    "Function that creates a view"
   ]
  },
  {
   "cell_type": "code",
   "execution_count": 9,
   "metadata": {
    "ExecuteTime": {
     "end_time": "2020-12-30T18:28:00.389525Z",
     "start_time": "2020-12-30T18:28:00.375523Z"
    }
   },
   "outputs": [],
   "source": [
    "def CreateView(view_name):\n",
    "    cursor = db.cursor()\n",
    "    \n",
    "    query = \"CREATE VIEW {} AS {}\"\n",
    "    \n",
    "    select_query = NestedSelect()\n",
    "    \n",
    "    print('\\nThe query you created is: \\n')\n",
    "    print(query.format(view_name,select_query))\n",
    "    \n",
    "    cursor.execute(query.format(view_name,select_query))\n",
    "    \n",
    "    db.commit()"
   ]
  },
  {
   "cell_type": "markdown",
   "metadata": {},
   "source": [
    "Function that updates a view"
   ]
  },
  {
   "cell_type": "code",
   "execution_count": 10,
   "metadata": {
    "ExecuteTime": {
     "end_time": "2020-12-30T18:28:00.405529Z",
     "start_time": "2020-12-30T18:28:00.390526Z"
    }
   },
   "outputs": [],
   "source": [
    "def UpdateView(view_name):   \n",
    "    cursor = db.cursor()\n",
    "    \n",
    "    query = \"CREATE OR REPLACE VIEW {} AS\"\n",
    "    \n",
    "    select_query = NestedSelect()\n",
    "    \n",
    "    print('\\nThe query you created is: \\n')\n",
    "    print(query.format(view_name,select_query))\n",
    "    \n",
    "    cursor.execute(query.format(view_name,select_query))\n",
    "    \n",
    "    db.commit()"
   ]
  },
  {
   "cell_type": "markdown",
   "metadata": {},
   "source": [
    "Function that deletes a view"
   ]
  },
  {
   "cell_type": "code",
   "execution_count": 11,
   "metadata": {
    "ExecuteTime": {
     "end_time": "2020-12-30T18:28:00.421533Z",
     "start_time": "2020-12-30T18:28:00.407531Z"
    }
   },
   "outputs": [],
   "source": [
    "def DropView(view_name):\n",
    "    cursor = db.cursor()\n",
    "    \n",
    "    query = \"DROP VIEW {}\"\n",
    "    \n",
    "    print('\\nThe query you created is: \\n')\n",
    "    print(query.format(view_name))\n",
    "    \n",
    "    cursor.execute(query.format(view_name))\n",
    "    \n",
    "    db.commit()         "
   ]
  },
  {
   "cell_type": "markdown",
   "metadata": {
    "ExecuteTime": {
     "end_time": "2020-12-26T16:16:11.043848Z",
     "start_time": "2020-12-26T16:16:11.019841Z"
    }
   },
   "source": [
    "Function that inserts values (one specific row) into a table"
   ]
  },
  {
   "cell_type": "code",
   "execution_count": 12,
   "metadata": {
    "ExecuteTime": {
     "end_time": "2020-12-30T18:28:00.437536Z",
     "start_time": "2020-12-30T18:28:00.423534Z"
    }
   },
   "outputs": [],
   "source": [
    "def Insert(table_name,table_values):\n",
    "    cursor = db.cursor()\n",
    "    \n",
    "    query = \"INSERT INTO {} ({}) VALUES ({})\" \n",
    "    \n",
    "    print('\\nThe query you created is: \\n')\n",
    "    print(query.format(table_name,table_values[0],table_values[1]))\n",
    "    \n",
    "    cursor.execute(query.format(table_name,table_values[0],table_values[1]))\n",
    "    \n",
    "    db.commit()"
   ]
  },
  {
   "cell_type": "markdown",
   "metadata": {},
   "source": [
    "Function that updates an existing row of a table"
   ]
  },
  {
   "cell_type": "code",
   "execution_count": 13,
   "metadata": {
    "ExecuteTime": {
     "end_time": "2020-12-30T18:28:00.453541Z",
     "start_time": "2020-12-30T18:28:00.438537Z"
    }
   },
   "outputs": [],
   "source": [
    "def Update(table_name, table_values):\n",
    "    cursor = db.cursor()\n",
    "    \n",
    "    query = \"UPDATE {} SET {} WHERE {}\"\n",
    "    \n",
    "    print('\\nThe query you created is: \\n')\n",
    "    print(query.format(table_name,table_values[0],table_values[1]))\n",
    "    \n",
    "    cursor.execute(query.format(table_name,table_values[0],table_values[1]))\n",
    "    \n",
    "    db.commit()"
   ]
  },
  {
   "cell_type": "markdown",
   "metadata": {
    "ExecuteTime": {
     "end_time": "2020-12-26T11:04:58.557033Z",
     "start_time": "2020-12-26T11:04:58.542029Z"
    },
    "scrolled": true
   },
   "source": [
    "Function that deletes a specific row from a table"
   ]
  },
  {
   "cell_type": "code",
   "execution_count": 14,
   "metadata": {
    "ExecuteTime": {
     "end_time": "2020-12-30T18:28:00.469544Z",
     "start_time": "2020-12-30T18:28:00.456541Z"
    }
   },
   "outputs": [],
   "source": [
    "def Delete(table_name,table_values):\n",
    "    cursor = db.cursor()\n",
    "    \n",
    "    query = \"DELETE FROM {} WHERE {}\"\n",
    "    \n",
    "    print('\\nThe query you created is: \\n')\n",
    "    print(query.format(table_name,table_values[0]))\n",
    "    \n",
    "    cursor.execute(query.format(table_name,table_values[0]))\n",
    "    \n",
    "    db.commit()"
   ]
  },
  {
   "cell_type": "markdown",
   "metadata": {
    "ExecuteTime": {
     "end_time": "2020-12-27T16:05:47.426295Z",
     "start_time": "2020-12-27T16:05:47.405290Z"
    }
   },
   "source": [
    "Function that selects values based on a query"
   ]
  },
  {
   "cell_type": "code",
   "execution_count": 15,
   "metadata": {
    "ExecuteTime": {
     "end_time": "2020-12-30T18:28:00.485548Z",
     "start_time": "2020-12-30T18:28:00.470544Z"
    }
   },
   "outputs": [],
   "source": [
    "def Select(table_name,table_values):\n",
    "    cursor = db.cursor()\n",
    "    \n",
    "    query = \"SELECT {} FROM {} {} {} {} {}\"\n",
    "    \n",
    "    print('\\nThe query you created is: \\n')\n",
    "    print(query.format(table_values[0],table_name,table_values[1],table_values[2],table_values[3], table_values[4]))\n",
    "    \n",
    "    cursor.execute(query.format(table_values[0],table_name,table_values[1],table_values[2],table_values[3], table_values[4]))\n",
    "    \n",
    "    headers = [i[0] for i in cursor.description]\n",
    "    \n",
    "    rows = cursor.fetchall()\n",
    "    \n",
    "    db.commit()\n",
    "    \n",
    "    return rows,headers"
   ]
  },
  {
   "cell_type": "markdown",
   "metadata": {},
   "source": [
    "Function used for nested select queries"
   ]
  },
  {
   "cell_type": "code",
   "execution_count": 16,
   "metadata": {
    "ExecuteTime": {
     "end_time": "2020-12-30T18:28:00.677590Z",
     "start_time": "2020-12-30T18:28:00.487548Z"
    }
   },
   "outputs": [],
   "source": [
    "def NestedSelect():\n",
    "    query = \"SELECT {} FROM {} {} {} {} {}\"    \n",
    "    \n",
    "    table_name = input('\\nPlease type the name of the table you want to select rows from: ')\n",
    "\n",
    "    temp = list()\n",
    "    j = 0\n",
    "    flag = 0\n",
    "    \n",
    "    for i in range(0,len(table_name)):\n",
    "        if table_name[i] == '(':\n",
    "            if i + 1 <= len(table_name) - 1:\n",
    "                if table_name[i+1] == ')':\n",
    "                    flag = 1\n",
    "                    temp.append(table_name[j:i+1])\n",
    "                    nestedselect_cond = NestedSelect()\n",
    "                    temp.append(nestedselect_cond)\n",
    "                    j = i + 1\n",
    "    \n",
    "    if flag == 1:\n",
    "        table_name = ''\n",
    "        for i in range(0,len(temp)):\n",
    "            table_name = table_name + temp[i]\n",
    "        table_name = table_name + ')'\n",
    "    \n",
    "    table_values = list()\n",
    "    \n",
    "    select_cond = input('\\nPlease type the SELECT condition: ')\n",
    "\n",
    "    temp = list()\n",
    "    j=0\n",
    "    flag = 0\n",
    "    \n",
    "    for i in range(0,len(select_cond)):\n",
    "        if select_cond[i] == '(':\n",
    "            if i + 1 <= len(select_cond) - 1:\n",
    "                if select_cond[i+1] == ')':\n",
    "                    flag = 1\n",
    "                    temp.append(select_cond[j:i+1])\n",
    "                    nestedselect_cond = NestedSelect()\n",
    "                    temp.append(nestedselect_cond)\n",
    "                    j = i + 1\n",
    "    if flag == 1:\n",
    "        select_cond = ''\n",
    "        for i in range(0,len(temp)):\n",
    "            select_cond = select_cond + temp[i]\n",
    "        select_cond = select_cond + ')'\n",
    "    \n",
    "    table_values.append(select_cond)\n",
    "\n",
    "    while(1):\n",
    "        answer = input('\\nWill you use a WHERE condition? Please type \"Yes\" or \"No\" (without the quotations).')\n",
    "        if answer == 'Yes':\n",
    "            where_cond = input('\\nPlease type the WHERE condition: ')\n",
    "            where_cond = 'WHERE ' + where_cond\n",
    "            \n",
    "            temp = list()\n",
    "            j=0\n",
    "            flag = 0\n",
    "            \n",
    "            for i in range(0,len(where_cond)):\n",
    "                if where_cond[i] == '(':\n",
    "                    if i + 1 <= len(where_cond) - 1:\n",
    "                        if where_cond[i+1] == ')':\n",
    "                            flag = 1\n",
    "                            temp.append(where_cond[j:i+1])\n",
    "                            nestedselect_cond = NestedSelect()\n",
    "                            temp.append(nestedselect_cond)\n",
    "                            j = i+1\n",
    "            \n",
    "            if flag == 1:\n",
    "                where_cond = ''\n",
    "                for i in range(0,len(temp)):\n",
    "                    where_cond = where_cond + temp[i]\n",
    "                where_cond = where_cond + ')'\n",
    "            \n",
    "            table_values.append(where_cond)\n",
    "            break\n",
    "        \n",
    "        elif answer == 'No':\n",
    "            where_cond = ''\n",
    "            table_values.append(where_cond)\n",
    "            break\n",
    "        \n",
    "        else:\n",
    "             print('\\nYour input is incorrect, please type \"Yes\" or \"No\" (without the quotations).')\n",
    "\n",
    "    while(1):\n",
    "        answer = input('\\nWill you use a GROUP BY condition? Please type \"Yes\" or \"No\" (without the quotations).')\n",
    "        if answer == 'Yes':\n",
    "            groupby_cond = input('\\nPlease type the GROUP BY condition: ')\n",
    "            groupby_cond = 'GROUP BY ' + groupby_cond\n",
    "            table_values.append(groupby_cond)\n",
    "            break\n",
    "        \n",
    "        elif answer == 'No':\n",
    "            groupby_cond = ''\n",
    "            table_values.append(groupby_cond)\n",
    "            break\n",
    "       \n",
    "        else:\n",
    "             print('\\nYour input is incorrect, please type \"Yes\" or \"No\" (without the quotations).')    \n",
    "\n",
    "    if answer == 'Yes':\n",
    "        while(1):\n",
    "            answer = input('\\nWill you use a HAVING condition? Please type \"Yes\" or \"No\" (without the quotations).')\n",
    "            if answer == 'Yes':\n",
    "                having_cond = input('\\nPlease type the HAVING condition: ')\n",
    "                having_cond = 'HAVING ' + having_cond\n",
    "                \n",
    "                temp = list()\n",
    "                j=0\n",
    "                flag = 0\n",
    "                \n",
    "                for i in range(0,len(having_cond)):\n",
    "                    if having_cond[i] == '(':\n",
    "                        if i + 1 <= len(having_cond) - 1:\n",
    "                            if having_cond[i+1] == ')':\n",
    "                                flag = 1\n",
    "                                temp.append(having_cond[j:i+1])\n",
    "                                nestedselect_cond = NestedSelect()\n",
    "                                temp.append(nestedselect_cond)\n",
    "                                j = i+1\n",
    "                \n",
    "                if flag == 1:\n",
    "                    having_cond = ''\n",
    "                    for i in range(0,len(temp)):\n",
    "                        having_cond = where_cond + temp[i]\n",
    "                    having_cond = having_cond + ')'\n",
    "                \n",
    "                table_values.append(having_cond)\n",
    "                break\n",
    "            \n",
    "            elif answer == 'No':\n",
    "                having_cond = ''\n",
    "                table_values.append(having_cond)\n",
    "                break\n",
    "            \n",
    "            else:\n",
    "                 print('\\nYour input is incorrect, please type \"Yes\" or \"No\" (without the quotations).')\n",
    "    \n",
    "    else:\n",
    "        having_cond = ''\n",
    "        table_values.append(having_cond)\n",
    "\n",
    "    while(1):\n",
    "        answer = input('\\nWill you use an ORDER BY condition? Please type \"Yes\" or \"No\" (without the quotations).')\n",
    "        if answer == 'Yes':\n",
    "            orderby_cond = input('\\nPlease type the ORDER BY condition: ')\n",
    "            orderby_cond = 'ORDER BY ' + orderby_cond\n",
    "            table_values.append(orderby_cond)\n",
    "            break\n",
    "        \n",
    "        elif answer == 'No':\n",
    "            orderby_cond = ''\n",
    "            table_values.append(orderby_cond)\n",
    "            break\n",
    "        \n",
    "        else:\n",
    "             print('\\nYour input is incorrect, please type \"Yes\" or \"No\" (without the quotations).')\n",
    "\n",
    "    table_values = np.array(table_values)\n",
    "    \n",
    "    return query.format(table_values[0],table_name,table_values[1],table_values[2],table_values[3],table_values[4])"
   ]
  },
  {
   "cell_type": "markdown",
   "metadata": {
    "ExecuteTime": {
     "end_time": "2020-12-26T14:11:18.321476Z",
     "start_time": "2020-12-26T14:11:18.283087Z"
    },
    "scrolled": true
   },
   "source": [
    "Function that closes the connection to the database"
   ]
  },
  {
   "cell_type": "code",
   "execution_count": 17,
   "metadata": {
    "ExecuteTime": {
     "end_time": "2020-12-30T18:28:00.693595Z",
     "start_time": "2020-12-30T18:28:00.678591Z"
    }
   },
   "outputs": [],
   "source": [
    "def Exit():\n",
    "    cursor = db.cursor()\n",
    "    \n",
    "    cursor.close()\n",
    "    \n",
    "    db.close()   "
   ]
  }
 ],
 "metadata": {
  "kernelspec": {
   "display_name": "Python 3",
   "language": "python",
   "name": "python3"
  },
  "language_info": {
   "codemirror_mode": {
    "name": "ipython",
    "version": 3
   },
   "file_extension": ".py",
   "mimetype": "text/x-python",
   "name": "python",
   "nbconvert_exporter": "python",
   "pygments_lexer": "ipython3",
   "version": "3.7.6"
  },
  "toc": {
   "base_numbering": 1,
   "nav_menu": {},
   "number_sections": true,
   "sideBar": true,
   "skip_h1_title": false,
   "title_cell": "Table of Contents",
   "title_sidebar": "Contents",
   "toc_cell": false,
   "toc_position": {},
   "toc_section_display": true,
   "toc_window_display": false
  },
  "varInspector": {
   "cols": {
    "lenName": 16,
    "lenType": 16,
    "lenVar": 40
   },
   "kernels_config": {
    "python": {
     "delete_cmd_postfix": "",
     "delete_cmd_prefix": "del ",
     "library": "var_list.py",
     "varRefreshCmd": "print(var_dic_list())"
    },
    "r": {
     "delete_cmd_postfix": ") ",
     "delete_cmd_prefix": "rm(",
     "library": "var_list.r",
     "varRefreshCmd": "cat(var_dic_list()) "
    }
   },
   "types_to_exclude": [
    "module",
    "function",
    "builtin_function_or_method",
    "instance",
    "_Feature"
   ],
   "window_display": false
  }
 },
 "nbformat": 4,
 "nbformat_minor": 4
}
